{
 "cells": [
  {
   "cell_type": "code",
   "execution_count": 2,
   "metadata": {},
   "outputs": [],
   "source": [
    "# your librerias\n",
    "import pandas as pd\n",
    "import sqlite3\n",
    "import requests\n",
    "from bs4 import BeautifulSoup\n"
   ]
  },
  {
   "cell_type": "code",
   "execution_count": 4,
   "metadata": {},
   "outputs": [
    {
     "name": "stdout",
     "output_type": "stream",
     "text": [
      "<class 'str'>\n"
     ]
    }
   ],
   "source": [
    "# datos\n",
    "r = requests.get('https://www.macrotrends.net/stocks/charts/TSLA/tesla/revenue')\n",
    "html_data = r.text\n",
    "print(type(html_data))"
   ]
  },
  {
   "cell_type": "code",
   "execution_count": 17,
   "metadata": {},
   "outputs": [
    {
     "name": "stdout",
     "output_type": "stream",
     "text": [
      "la tabla que busco está en el índice  1\n"
     ]
    }
   ],
   "source": [
    "# busco la tabla que interesa\n",
    "data = BeautifulSoup(html_data, 'html.parser')\n",
    "tablas = data.findAll('table')\n",
    "id_tabla = None\n",
    "for i in range(len(tablas)):\n",
    "    if \"Tesla Quarterly Revenue\" in str(tablas[i]):\n",
    "        id_tabla = i\n",
    "        print(\"la tabla que busco está en el índice \", str(id_tabla))\n",
    "        break\n",
    "tabla = tablas[id_tabla]\n",
    "lista = tabla.tbody.find_all('tr')   \n",
    "#data2 = data.prettify()\n",
    "#print(data2)"
   ]
  }
 ],
 "metadata": {
  "kernelspec": {
   "display_name": "Python 3.8.13 64-bit ('3.8.13')",
   "language": "python",
   "name": "python3"
  },
  "language_info": {
   "codemirror_mode": {
    "name": "ipython",
    "version": 3
   },
   "file_extension": ".py",
   "mimetype": "text/x-python",
   "name": "python",
   "nbconvert_exporter": "python",
   "pygments_lexer": "ipython3",
   "version": "3.8.13"
  },
  "orig_nbformat": 4,
  "vscode": {
   "interpreter": {
    "hash": "110cc1dee26208153f2972f08a2ad52b6a56238dc66d48e87fb757ef2996db56"
   }
  }
 },
 "nbformat": 4,
 "nbformat_minor": 2
}
